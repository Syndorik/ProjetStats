{
 "cells": [
  {
   "cell_type": "code",
   "execution_count": 10,
   "metadata": {},
   "outputs": [],
   "source": [
    "import pandas as pd\n",
    "import numpy as np\n",
    "pd.options.display.max_columns = 70\n",
    "import seaborn as sns\n",
    "import matplotlib\n",
    "import matplotlib.pyplot as plt\n",
    "import os \n",
    "%matplotlib inline\n",
    "from scipy.stats import chisquare"
   ]
  },
  {
   "cell_type": "markdown",
   "metadata": {},
   "source": [
    "### Changement des noms des colonnes"
   ]
  },
  {
   "cell_type": "code",
   "execution_count": 11,
   "metadata": {},
   "outputs": [],
   "source": [
    "# De manière générale, les premières cells sont similaires à celle des autres notebook d'Alexandre\n",
    "# et d'Adrien\n",
    "\n",
    "sns.set_style('darkgrid')\n",
    "\n",
    "NewColName = [\"id\",\"age\",\"sexe\",\"nationalite\",\"etudiant_IMT\",\"musique/Replique\",\n",
    "              \"sw_rep_1\", \"sw_rep_2\",\"ter_mus_1\",\"ter_mus_2\",\"rl_rep_1\",\"rl_rep_2\",\n",
    "             \"tit_mus_1\",\"tit_mus_2\",\"sw_mus_1\",\"sw_mus_2\",\"tit_rep_1\",\"tit_rep_2\",\n",
    "             \"rl_mus_1\",\"rl_mus_2\",\"lotr_mus_1\",\"lotr_mus_2\",\"ter_rep_1\",\"ter_rep_2\",\n",
    "             \"lotr_rep_1\",\"lotr_rep_2\",\"sw_nbr_vis\", \"sw_age_vis\",\"rl_nbr_vis\",\"rl_age_vis\",\n",
    "             \"tit_nbr_vis\",\"tit_age_vis\",\"lotr_nbr_vis\",\"lotr_age_vis\",\"ter_nbr_vis\",\"ter_age_vis\",\n",
    "             \"répliques\",\"musique\",\"histoire\",\"revoir_film\",\"enfance\",\"emotion\"]\n",
    "\n",
    "\n",
    "# ### Clean de sw_rep_2\n",
    "\n",
    "unknown = \"unknown\"\n",
    "known = \"known\""
   ]
  },
  {
   "cell_type": "code",
   "execution_count": 12,
   "metadata": {},
   "outputs": [],
   "source": [
    "def repplace(dataset,colname, value):\n",
    "    for k in value :\n",
    "        dataset[colname] = dataset[colname].apply(lambda var : known if k in var.lower() else var)\n",
    "    \n",
    "def finalize(dataset,colname):\n",
    "    l = dataset[colname].unique()\n",
    "    l = l[l != known]\n",
    "    l = l[l != unknown]\n",
    "    dataset[colname] = dataset[colname].apply(lambda var : unknown if var in (l) else var)\n",
    "\n",
    "dictt = {\"ter_mus_2\": [\"terminator\"] ,\n",
    "         \"rl_mus_2\":['roi lion',\"roo lion\",\"roi lyon\",\"lion king\",\"le roi loin\",\"prince tigre\",'nakouna matata'],\n",
    "         'sw_mus_2': [\"star wars\",\"empire\",\"sw\",\"starwar\",\"star wa\",\"guerre \",\"stawar\",\"stars wa\",\"starwax\",\"jeudi\"],\n",
    "        'lotr_mus_2': [\"seigneur des anneaux\",\"lord of the ring\",\"seigneur\",\"la meilleure\",\"lotr\",\"communauté de l'anneau\",\" avec les orcs et les nains\",\"hobbit\"],\n",
    "        'tit_mus_2': [\"titanic\",\"bateau\",\"tani\"],\n",
    "         \"ter_rep_2\": [\"terminator\",\"termiantor\",\"governator\",\"robot\"] ,\n",
    "         \"rl_rep_2\":['roi lion',\"AKUMANATAT\".lower(),\"roi lyon\",\"lion king\",\"roi l\",\"akouna mata\",\"matata\"],\n",
    "        'lotr_rep_2':  [\"seigneur des anneaux\",\"lord of the ring\",\"seigneur\",\"la meilleure\",\"lotr\",\"communauté de l'anneau\",\" avec les orcs et les nains\",\"hobbit\",\"GO BACK\".lower(),\"senior\",\"fellowship\"],\n",
    "        'tit_rep_2': [\"titanic\",\"bateau\",\"tani\"],\n",
    "        }"
   ]
  },
  {
   "cell_type": "code",
   "execution_count": 65,
   "metadata": {},
   "outputs": [],
   "source": [
    "\n",
    "def clean_data(dictt,NewColName):\n",
    "\n",
    "\tdataset = pd.read_csv(\"resultsOfSurvey.csv\", sep= \",\")\n",
    "\n",
    "\t# Le fichier ne contient que des réponses complètes, nous pouvont donc drop la colonne \n",
    "    # \"Completed\" qui est tout le temps égale à Y  \n",
    "\t# Les colonnes 0001.14, 0004.1, 0007, 0010 et 0013 sont hors de propos\n",
    "\tdataset.drop(\"Completed\", axis =1, inplace = True) \n",
    "\tdataset.drop([\"0001.14\", \"0004.1\", \"0007\", \"0010\",\"0013\"], axis =1, inplace = True) \n",
    "\n",
    "\t# Ici : \n",
    "\t# - 1 --> Est ce que vous connaissez la réplique /musique\n",
    "\t# - 2 --> Le nom du film associé\n",
    "\t# - rep --> Réplique\n",
    "\t# - mus --> Musique\n",
    "\t# - nbr_vis --> Nombre de visionage\n",
    "\t# \n",
    "\t# Modification des colonnes\n",
    "\tdataset.set_axis(NewColName, axis = 1, inplace= True)\n",
    "\t\n",
    "\t# ### Drop des réponses troll \n",
    "\tdataset.drop(dataset[dataset[\"id\"] == 84].index, axis =0, inplace = True) \n",
    "\tdataset.drop(dataset[dataset[\"id\"] == 16].index, axis =0, inplace = True) \n",
    "\n",
    "\tdataset[\"sw_rep_2\"].fillna(value = unknown, inplace = True)\n",
    "\tdataset[\"sw_rep_2\"] = dataset[\"sw_rep_2\"].apply(lambda var : known if 'star wars' in var.lower() else var)\n",
    "\n",
    "\trepplace(dataset,\"sw_rep_2\",[\"empire\",\"jedi\",\"guerre\",\"starwars\",\"stars wars\",\"star war\",\"stars war\"])\n",
    "\tfinalize(dataset,\"sw_rep_2\")\n",
    "\n",
    "\n",
    "\tfor k in dictt :\n",
    "\t    dataset[k].fillna(value = unknown, inplace = True)\n",
    "\t    repplace(dataset,k,dictt[k])\n",
    "\t    finalize(dataset , k)\n",
    "\n",
    "\treturn dataset"
   ]
  },
  {
   "cell_type": "markdown",
   "metadata": {},
   "source": [
    "### Début de code personnel### "
   ]
  },
  {
   "cell_type": "code",
   "execution_count": 70,
   "metadata": {},
   "outputs": [],
   "source": [
    "def create_stat_df(dataset):\n",
    "\n",
    "    testChi2 = ['répliques','musique','histoire','revoir_film','enfance','emotion']\n",
    "    # On selectionne uniquement les 6 dernières colonnes du questionnaire \n",
    "    df = dataset.loc[:,testChi2]\n",
    "\t\n",
    "    stat_dict = {}\n",
    "    for key in testChi2:\n",
    "        # Pour chaque colonne (df[key]), on va identifier et compter combien il y a d'élément unique\n",
    "        # Les éléments uniques sont les d'accord, pas d'accord, neutre, etc...\n",
    "        # La liste des éléments uniques est stocké dans la variable unique\n",
    "        # Le nombre d'occurence dans la variable counts\n",
    "        unique, counts = np.unique(df[key], return_counts=True)\n",
    "        values = list(counts)\n",
    "        reponses = list(unique)\n",
    "        print(dict(zip(unique,counts)))\n",
    "        stat_dict[key] = values\n",
    "\n",
    "    # Réarrangement des index des lignes dans cet ordre: d'accord / plutot d'accord / neutre \n",
    "    # / plutot pas d'accord / pas d'accord\n",
    "    neutre,pdc,dc,ppdc = reponses[1],reponses[2],reponses[3],reponses[4]\n",
    "    reponses[1],reponses[2],reponses[3],reponses[4] = dc,neutre,ppdc,pdc\n",
    "\n",
    "    # On créer le dataframe et on change les noms des lignes par les valeurs de la liste reponse \t\n",
    "    df_stat = pd.DataFrame(stat_dict)\n",
    "    df_stat['réponses'] = reponses\n",
    "    df_stat = df_stat.set_index('réponses')\n",
    "    print(df_stat)\n",
    "\n",
    "    # On montre un aperçu des principales descriptions statistiques\n",
    "    print('\\nDescriptions')\n",
    "    print(df_stat.describe())\n",
    "\n",
    "    return df_stat,reponses,testChi2"
   ]
  },
  {
   "cell_type": "code",
   "execution_count": 73,
   "metadata": {},
   "outputs": [],
   "source": [
    "def creating_count_plot(df_stat,reponses):\n",
    "    \n",
    "\tplt.figure('mainplot',figsize=(10,13))\n",
    "\tfor i,attribute in enumerate(testChi2):\n",
    "        # On va afficher les résultats des 6 caractéristiques sur une même figure\n",
    "\t\tplt.subplot(3,2,i+1)\n",
    "        # Pour chaque caractéristique on fait un histogramme \n",
    "\t\tsns.countplot(x=attribute,data=dataset,order=reponses)\n",
    "\tplt.tight_layout()\n",
    "\tnamefile = \"countplot.png\"\n",
    "\tplt.show()"
   ]
  },
  {
   "cell_type": "markdown",
   "metadata": {},
   "source": [
    "### affichage des résultats "
   ]
  },
  {
   "cell_type": "code",
   "execution_count": 74,
   "metadata": {},
   "outputs": [
    {
     "name": "stdout",
     "output_type": "stream",
     "text": [
      "{\"D'accord\": 172, 'Neutre': 35, \"Pas d'accord\": 6, \"Plutôt d'accord\": 79, \"Plutôt pas d'accord\": 8}\n",
      "{\"D'accord\": 223, 'Neutre': 10, \"Pas d'accord\": 5, \"Plutôt d'accord\": 60, \"Plutôt pas d'accord\": 2}\n",
      "{\"D'accord\": 205, 'Neutre': 17, \"Pas d'accord\": 5, \"Plutôt d'accord\": 68, \"Plutôt pas d'accord\": 5}\n",
      "{\"D'accord\": 128, 'Neutre': 45, \"Pas d'accord\": 13, \"Plutôt d'accord\": 95, \"Plutôt pas d'accord\": 19}\n",
      "{\"D'accord\": 30, 'Neutre': 97, \"Pas d'accord\": 51, \"Plutôt d'accord\": 59, \"Plutôt pas d'accord\": 63}\n",
      "{\"D'accord\": 127, 'Neutre': 42, \"Pas d'accord\": 5, \"Plutôt d'accord\": 116, \"Plutôt pas d'accord\": 10}\n",
      "                     répliques  musique  histoire  revoir_film  enfance  \\\n",
      "réponses                                                                  \n",
      "D'accord                   172      223       205          128       30   \n",
      "Plutôt d'accord             35       10        17           45       97   \n",
      "Neutre                       6        5         5           13       51   \n",
      "Plutôt pas d'accord         79       60        68           95       59   \n",
      "Pas d'accord                 8        2         5           19       63   \n",
      "\n",
      "                     emotion  \n",
      "réponses                      \n",
      "D'accord                 127  \n",
      "Plutôt d'accord           42  \n",
      "Neutre                     5  \n",
      "Plutôt pas d'accord      116  \n",
      "Pas d'accord              10  \n",
      "\n",
      "Descriptions\n",
      "        répliques     musique    histoire  revoir_film    enfance    emotion\n",
      "count    5.000000    5.000000    5.000000     5.000000   5.000000    5.00000\n",
      "mean    60.000000   60.000000   60.000000    60.000000  60.000000   60.00000\n",
      "std     69.191763   94.151474   85.129313    49.909919  24.289916   58.03878\n",
      "min      6.000000    2.000000    5.000000    13.000000  30.000000    5.00000\n",
      "25%      8.000000    5.000000    5.000000    19.000000  51.000000   10.00000\n",
      "50%     35.000000   10.000000   17.000000    45.000000  59.000000   42.00000\n",
      "75%     79.000000   60.000000   68.000000    95.000000  63.000000  116.00000\n",
      "max    172.000000  223.000000  205.000000   128.000000  97.000000  127.00000\n"
     ]
    },
    {
     "data": {
      "image/png": "[encoded data removed]",
      "text/plain": [
       "<Figure size 720x936 with 6 Axes>"
      ]
     },
     "metadata": {},
     "output_type": "display_data"
    }
   ],
   "source": [
    "dataset = clean_data(dictt,NewColName)\n",
    "\n",
    "df_stat,reponses,testChi2 = create_stat_df(dataset)\n",
    "\n",
    "creating_count_plot(df_stat,reponses)"
   ]
  },
  {
   "cell_type": "markdown",
   "metadata": {},
   "source": [
    "### Première série de test du chi deux "
   ]
  },
  {
   "cell_type": "code",
   "execution_count": 85,
   "metadata": {},
   "outputs": [],
   "source": [
    "def test_stat_chi_deux(testChi2,df_stat):\n",
    "    dict_chi_deux = []\n",
    "    for elem in testChi2:\n",
    "        # On récupère la colonne correspondante\n",
    "        current_array_test = df_stat[elem]\n",
    "        # On fait le test du chi deux sur celui ci\n",
    "        statistic,pvalue = chisquare(current_array_test)\n",
    "        print(\"\\nRésultat du test du chi deux pour la caractéristique\",elem,\"\\n\")\n",
    "        print(\"statistic = \",statistic)\n",
    "        print(\"p-value = \",pvalue)\n",
    "        # On les met bout à bout pour faire un data frame et quelques figures \n",
    "        dict_chi_deux.append(pvalue)\n",
    "    return dict_chi_deux"
   ]
  },
  {
   "cell_type": "code",
   "execution_count": 87,
   "metadata": {},
   "outputs": [
    {
     "name": "stdout",
     "output_type": "stream",
     "text": [
      "\n",
      "Résultat du test du chi deux pour la caractéristique répliques \n",
      "\n",
      "statistic =  319.16666666666663\n",
      "p-value =  7.934862367902722e-68\n",
      "\n",
      "Résultat du test du chi deux pour la caractéristique musique \n",
      "\n",
      "statistic =  590.9666666666667\n",
      "p-value =  1.3970730777864903e-126\n",
      "\n",
      "Résultat du test du chi deux pour la caractéristique histoire \n",
      "\n",
      "statistic =  483.1333333333334\n",
      "p-value =  2.9768762081112325e-103\n",
      "\n",
      "Résultat du test du chi deux pour la caractéristique revoir_film \n",
      "\n",
      "statistic =  166.06666666666666\n",
      "p-value =  7.303534923049034e-35\n",
      "\n",
      "Résultat du test du chi deux pour la caractéristique enfance \n",
      "\n",
      "statistic =  39.33333333333333\n",
      "p-value =  5.944914651338685e-08\n",
      "\n",
      "Résultat du test du chi deux pour la caractéristique emotion \n",
      "\n",
      "statistic =  224.56666666666663\n",
      "p-value =  1.9504460548835097e-47\n",
      "\n",
      "############################################\n",
      " \n",
      "Dataframe de p-values: \n",
      "\n",
      "          p-value\n",
      "0   7.934862e-68\n",
      "1  1.397073e-126\n",
      "2  2.976876e-103\n",
      "3   7.303535e-35\n",
      "4   5.944915e-08\n",
      "5   1.950446e-47\n"
     ]
    }
   ],
   "source": [
    "dict_chi_deux = test_stat_chi_deux(testChi2,df_stat)\n",
    "\n",
    "df_chi_deux = pd.DataFrame(dict_chi_deux)\n",
    "df_chi_deux.set_axis(['p-value'], axis = 1, inplace= True)\n",
    "print('\\n############################################\\n', '\\nDataframe de p-values: \\n\\n', df_chi_deux)"
   ]
  },
  {
   "cell_type": "code",
   "execution_count": 107,
   "metadata": {},
   "outputs": [
    {
     "name": "stderr",
     "output_type": "stream",
     "text": [
      "C:\\Users\\mbach\\Anaconda3\\lib\\site-packages\\scipy\\stats\\stats.py:1713: FutureWarning: Using a non-tuple sequence for multidimensional indexing is deprecated; use `arr[tuple(seq)]` instead of `arr[seq]`. In the future this will be interpreted as an array index, `arr[np.array(seq)]`, which will result either in an error or a different result.\n",
      "  return np.add.reduce(sorted[indexer] * weights, axis=axis) / sumval\n"
     ]
    },
    {
     "data": {
      "image/png": "[encoded data removed]",
      "text/plain": [
       "<Figure size 504x504 with 1 Axes>"
      ]
     },
     "metadata": {},
     "output_type": "display_data"
    }
   ],
   "source": [
    "def plot_log(df_chi_deux,testChi2,refut_pvalue=False):\n",
    "    f, ax = plt.subplots(figsize=(7, 7))\n",
    "    # Etant donné les valeurs de p-value obtenue il faut une échelle logarithmique\n",
    "    ax.set(yscale=\"log\")\n",
    "    # J'ai ajouté un élément inutile pour redécaler les légendes vers la droite \n",
    "    # (on ne voyait pas répliques avant)\n",
    "    ax.set_xticklabels([''] + testChi2)\n",
    "    xaxis = [i for i in range(6)]\n",
    "    sns.regplot(x=xaxis, y='p-value', data=df_chi_deux, ax=ax)\n",
    "    if refut_pvalue == True:\n",
    "        # Cette option sert à afficher une ligne rouge ou se situe le seuil de 5% pour la p-value \n",
    "        seuil_cinq_pourcent = [0.05 for i in xaxis]\n",
    "        plt.plot(xaxis,seuil_cinq_pourcent,'r')\n",
    "plot_log(df_chi_deux,testChi2)"
   ]
  },
  {
   "cell_type": "markdown",
   "metadata": {},
   "source": [
    "### Test du chi deux sur les deux plus grandes proportions  "
   ]
  },
  {
   "cell_type": "code",
   "execution_count": 103,
   "metadata": {},
   "outputs": [
    {
     "name": "stdout",
     "output_type": "stream",
     "text": [
      "   répliques  musique  histoire  revoir_film  enfance  emotion\n",
      "0        172      223       205          128       97      127\n",
      "1         79       60        68           95       63      116\n"
     ]
    }
   ],
   "source": [
    "dict_snd_chi_deux = {}\n",
    "for key in testChi2:\n",
    "    value = []\n",
    "    \n",
    "    # On stocke le maximum de cette colonne\n",
    "    list_inter = list(df_stat[key])\n",
    "    maxi = max(list_inter)\n",
    "    value.append(maxi)\n",
    "    \n",
    "    # On stocke le maximum de cette colonne après avoir supprimé le précédent maximum\n",
    "    list_inter.remove(maxi)\n",
    "    maxi = max(list_inter)\n",
    "    value.append(maxi)\n",
    "    \n",
    "    dict_snd_chi_deux[key] = value\n",
    "\n",
    "# On crée le data frame\n",
    "df_inter_chi_deux = pd.DataFrame(dict_snd_chi_deux)\n",
    "print(df_inter_chi_deux)"
   ]
  },
  {
   "cell_type": "code",
   "execution_count": 100,
   "metadata": {},
   "outputs": [
    {
     "name": "stdout",
     "output_type": "stream",
     "text": [
      "\n",
      "Résultat du test du chi deux pour la caractéristique répliques \n",
      "\n",
      "statistic =  34.45816733067729\n",
      "p-value =  4.35511478276811e-09\n",
      "\n",
      "Résultat du test du chi deux pour la caractéristique musique \n",
      "\n",
      "statistic =  93.88339222614842\n",
      "p-value =  3.3467043489786993e-22\n",
      "\n",
      "Résultat du test du chi deux pour la caractéristique histoire \n",
      "\n",
      "statistic =  68.75091575091575\n",
      "p-value =  1.1171897958417422e-16\n",
      "\n",
      "Résultat du test du chi deux pour la caractéristique revoir_film \n",
      "\n",
      "statistic =  4.883408071748879\n",
      "p-value =  0.02711602906411855\n",
      "\n",
      "Résultat du test du chi deux pour la caractéristique enfance \n",
      "\n",
      "statistic =  7.225\n",
      "p-value =  0.00718951725016505\n",
      "\n",
      "Résultat du test du chi deux pour la caractéristique emotion \n",
      "\n",
      "statistic =  0.49794238683127573\n",
      "p-value =  0.48040561742029564\n",
      "\n",
      "#####################################\n",
      " \n",
      "Dataframe de p-values: \n",
      "\n",
      "         p-value\n",
      "0  4.355115e-09\n",
      "1  3.346704e-22\n",
      "2  1.117190e-16\n",
      "3  2.711603e-02\n",
      "4  7.189517e-03\n",
      "5  4.804056e-01\n"
     ]
    }
   ],
   "source": [
    "dict_plot_snd_chi_deux = test_stat_chi_deux(testChi2,df_inter_chi_deux)\n",
    "\n",
    "df_plot_snd_chi_deux = pd.DataFrame(dict_plot_snd_chi_deux)\n",
    "df_plot_snd_chi_deux.set_axis(['p-value'], axis = 1, inplace= True)\n",
    "print('\\n#####################################\\n', '\\nDataframe de p-values: \\n\\n', df_plot_snd_chi_deux)"
   ]
  },
  {
   "cell_type": "code",
   "execution_count": 108,
   "metadata": {},
   "outputs": [
    {
     "name": "stderr",
     "output_type": "stream",
     "text": [
      "C:\\Users\\mbach\\Anaconda3\\lib\\site-packages\\scipy\\stats\\stats.py:1713: FutureWarning: Using a non-tuple sequence for multidimensional indexing is deprecated; use `arr[tuple(seq)]` instead of `arr[seq]`. In the future this will be interpreted as an array index, `arr[np.array(seq)]`, which will result either in an error or a different result.\n",
      "  return np.add.reduce(sorted[indexer] * weights, axis=axis) / sumval\n"
     ]
    },
    {
     "data": {
      "image/png": "[encoded data removed]",
      "text/plain": [
       "<Figure size 504x504 with 1 Axes>"
      ]
     },
     "metadata": {},
     "output_type": "display_data"
    }
   ],
   "source": [
    "plot_log(df_plot_snd_chi_deux,testChi2,True)"
   ]
  },
  {
   "cell_type": "code",
   "execution_count": null,
   "metadata": {},
   "outputs": [],
   "source": []
  }
 ],
 "metadata": {
  "kernelspec": {
   "display_name": "Python 3",
   "language": "python",
   "name": "python3"
  },
  "language_info": {
   "codemirror_mode": {
    "name": "ipython",
    "version": 3
   },
   "file_extension": ".py",
   "mimetype": "text/x-python",
   "name": "python",
   "nbconvert_exporter": "python",
   "pygments_lexer": "ipython3",
   "version": "3.7.0"
  }
 },
 "nbformat": 4,
 "nbformat_minor": 2
}
